{
 "cells": [
  {
   "cell_type": "code",
   "execution_count": null,
   "metadata": {},
   "outputs": [],
   "source": [
    "import pandas as pd\n",
    "import numpy as np\n",
    "from seaborn import heatmap"
   ]
  },
  {
   "cell_type": "code",
   "execution_count": null,
   "metadata": {},
   "outputs": [],
   "source": [
    "df=pd.read_csv(\"/Users/keith/Documents/projects/Learning/Udacity/Data Science Nanodegree/data/StackOverflow Survey/developer_survey_2017/survey_results_public.csv\")\n"
   ]
  },
  {
   "cell_type": "code",
   "execution_count": null,
   "metadata": {},
   "outputs": [],
   "source": [
    "datafrom=['Salary','JobSatisfaction', 'Country', 'HomeRemote']\n",
    "df = df[datafrom].copy()\n",
    "df.dropna(axis=0, how='any', inplace=True)\n"
   ]
  },
  {
   "cell_type": "code",
   "execution_count": null,
   "metadata": {},
   "outputs": [],
   "source": [
    "def computeMutualInformation(tupleWithHist2d):\n",
    "    hist2d = tupleWithHist2d[0]\n",
    "    total = hist2d.sum(axis=0).sum()\n",
    "    px = hist2d.sum(axis=1)/total\n",
    "    py = hist2d.sum(axis=0)/total\n",
    "    pbar = np.outer(px, py)\n",
    "    p = hist2d/total\n",
    "    lgp = np.log2(p) - np.log2(pbar)\n",
    "    return (p*lgp)[np.isfinite(lgp)].sum()\n"
   ]
  },
  {
   "cell_type": "code",
   "execution_count": null,
   "metadata": {},
   "outputs": [],
   "source": [
    "def mutualInfoMatrix(df):\n",
    "    columns = df.columns\n",
    "    n = len(columns)\n",
    "    \n",
    "    mtrx = np.zeros((n, n), dtype=float)\n",
    "    \n",
    "    for i in range(n):\n",
    "        for j in range(n):\n",
    "            # I know, I know.\n",
    "            mtrx[i, j] = computeMutualInformation(binPair(df[[columns[i], columns[j]]]))\n",
    "    \n",
    "    return mtrx\n"
   ]
  },
  {
   "cell_type": "markdown",
   "metadata": {},
   "source": [
    "###### Binning Wrapper Function That Handles Both Quant & Cat Features"
   ]
  },
  {
   "cell_type": "code",
   "execution_count": null,
   "metadata": {},
   "outputs": [],
   "source": [
    "def binPair(df):\n",
    "    # TODO: require df to have precisely two columns    \n",
    "    \n",
    "    indices = [pd.Index([]), pd.Index([])]\n",
    "    \n",
    "    for j in range(2):\n",
    "        srs = df.iloc[:, j]\n",
    "        indices[j] = srs.value_counts(bins=10, sort=False).index if srs.dtype=='float' else srs.value_counts().index\n",
    "    \n",
    "    ns = [0, 0]\n",
    "    ns[0] = len(indices[0])\n",
    "    ns[1] = len(indices[1])\n",
    "    \n",
    "    hist2d = np.zeros(shape=(len(indices[0]), len(indices[1])), dtype=int)\n",
    "    for _, row in df.iterrows():\n",
    "        idxs = [0, 0]\n",
    "        idxs[0] = indices[0].get_loc(row.iloc[0])\n",
    "        idxs[1] = indices[1].get_loc(row.iloc[1])\n",
    "        if idxs[0] not in range(ns[0]) or idxs[1] not in range(ns[1]):\n",
    "            continue\n",
    "        hist2d[idxs[0], idxs[1]] += 1\n",
    "\n",
    "    return hist2d, indices[0], indices[1]\n",
    "        \n",
    "        "
   ]
  },
  {
   "cell_type": "code",
   "execution_count": null,
   "metadata": {},
   "outputs": [],
   "source": [
    "matrix = mutualInfoMatrix(df)"
   ]
  },
  {
   "cell_type": "code",
   "execution_count": null,
   "metadata": {},
   "outputs": [],
   "source": [
    "bx = heatmap(matrix, annot=True, xticklabels=df.columns, yticklabels=df.columns)"
   ]
  },
  {
   "cell_type": "code",
   "execution_count": null,
   "metadata": {},
   "outputs": [],
   "source": []
  }
 ],
 "metadata": {
  "kernelspec": {
   "display_name": "Python 3",
   "language": "python",
   "name": "python3"
  },
  "language_info": {
   "codemirror_mode": {
    "name": "ipython",
    "version": 3
   },
   "file_extension": ".py",
   "mimetype": "text/x-python",
   "name": "python",
   "nbconvert_exporter": "python",
   "pygments_lexer": "ipython3",
   "version": "3.8.3"
  }
 },
 "nbformat": 4,
 "nbformat_minor": 4
}
